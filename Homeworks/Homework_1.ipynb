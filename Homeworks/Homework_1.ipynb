{
 "cells": [
  {
   "cell_type": "markdown",
   "metadata": {},
   "source": [
    "# Homework 1"
   ]
  },
  {
   "cell_type": "markdown",
   "metadata": {},
   "source": [
    "I will explain some concepts related to machine learning as an introduction to machine learning by answering following questions.\n",
    "\n",
    "1. How would you define Machine Learning?\n",
    "\n",
    "2. What are the differences between Supervised and Unsupervised Learning? Specify example 3 algorithms for each of these.\n",
    "\n",
    "3. What are the test and validation set, and why would you want to use them?\n",
    "\n",
    "4. What are the main preprocessing steps? Explain them in detail. Why we need to prepare our data?\n",
    "\n",
    "5. How you can explore and analyse countionus and discrete variables?\n",
    "\n",
    "6. Analyse the plot given below. (What is the plot and variable type, check the distribution and make comment about how you can preproccess it.)\n",
    "\n"
   ]
  },
  {
   "attachments": {},
   "cell_type": "markdown",
   "metadata": {},
   "source": [
    "## Question 1\n",
    "\n",
    "  Machine learning is a sub-field of Artificial Intelligence and the ability to learn from experiences by training with some computer algorithms that takes input and output as data set and expected to build a program or model to predict and make decisions without being explicitly programmed. Machine learning algorithms also find natural patterns in data that generate insight and help you make better decisions and predictions.\n",
    "\n",
    "  Makine öğrenmesi süreçlerini bir bebeğin dünyaya geldikten sonraki dünyayı anlamlandırma ve öğrenme süreçlerine benzetebiliriz. Bebekler verilerini beş duyuları aracılığıyla elde eder, bunlar bazen sonuçları olan davranışlar ( ateş yakar, ondan uzak dur), görselle kelime eşleşmesi gibi girdisi ve çıktısı olan veriler olabilirken bazen de sadece girdi içeren veriler olabilir. Bu verileri özellikleriyle, sonuçlarıyla veya anlamlı şekilde kümeleyerek, bağlantılar kurarak beyinlerinde yeni bağlar (modeller) kurulur ve bu bağları tekrar yoluyla test ederek, uygulayarak güçlendirirler ve bu yolla öğrenme gerçekleşir veya yenilenmeyen, doğrulanmayan bir bağ ise model yani bağ saf dışı kalır.\n",
    "Makine öğrenmesinde ise bizim onlara sunduğumuz veriler yoluyla bir model oluşturup başka veri setleri üzerinde oluşturduğu bu modeli test etmek yoluyla bu bağları güçlendirerek veya modeli değiştirip uyarlayarak öğrenme gerçekleşir. \n"
   ]
  },
  {
   "attachments": {},
   "cell_type": "markdown",
   "metadata": {},
   "source": [
    "## Question 2\n",
    "\n",
    "- Supervised learning trains a model on known data set ( input and output data) so that it can predict future outputs.   \n",
    "\n",
    "However, unsupervised leaarning finds hidden patterns or intrinsic structures by grouping and interpreting only in input data.\n",
    "\n",
    "\n",
    "- Supervised learning algorithms : Decision Tree, Logistic Regression, Linear Regression\n",
    "    \n",
    "  \n",
    "   Unsupervised learning algorithms : Centroid-based clustering, Hierarchical clustering, Distribution-based Clustering\n"
   ]
  },
  {
   "attachments": {},
   "cell_type": "markdown",
   "metadata": {},
   "source": [
    "## Question 3\n",
    "\n",
    "- Validation dataset is the sample of data used to provide an unbiased evaluation of a model fit on the training dataset while tuning model hyperparameters. The evaluation becomes more biased as skill on the validation dataset is incorporated into the model configuration.\n",
    "  \n",
    "  Test dataset is the sample of data used to provide an unbiased evaluation of a final model fit on the training dataset.\n",
    "\t\n",
    "    \n",
    "    \n",
    "- I would want to use validation dataset to fine-tune the model hyperparameters. So the model occasionally sees this data, but never learns from this. I want to use the validation set results and update higher level hyperparameters. Hence the validation set indirectly affects a model.\n",
    "  \n",
    "  I would want to use the test dataset once a model is completely trained(using the train and validation sets), because using the test set is critical to make a conclusion for me how well the model performs and also evaluate competing models."
   ]
  },
  {
   "cell_type": "markdown",
   "metadata": {},
   "source": [
    "## Question 4\n",
    "\n",
    "- Duplicate values  :  Find the duplicate values by using `df.duplicated()` ve `df.duplicated().sum()` and then mostly remove duplicate values to not give that particular data object an advantage or bias, when running machine learning algorithms by using `df.drop_duplicates()`\n",
    "\n",
    "\n",
    "- Imbalanced data : An Imbalanced dataset is one where the number of instances of a class(es) are significantly higher than another class(es), thus leading to an imbalance and creating rarer class(es). Check your data whether it is imbalanced or not (with `df.Label.value_counts()` or `df.gorupby(by=\"Label\").count()`), and if the data is imbalanced, use oversampling or undersampling methods to handle this problem.\n",
    "\n",
    "\n",
    "- Missing values  : Check your data for missing values ( `df.isnull().sum()`). Eliminate your missing values (`df.dropna()`) or fill them with median or mean. If the histogram is negatively or positively skewed, then fill the value with mean; if the histogram is normal (no skew), fill the value with median.\n",
    "\n",
    "\n",
    "\n",
    "- Outlier Detection : To find the outliers, there are three methods:\n",
    "\n",
    "     - Standart Deviation : The values after standardization should be the range of (-3,+3). Other values are outliers.\n",
    "   \n",
    "   ```\n",
    "    from scipy import stats\n",
    "    import numpy as np\n",
    "    z = np.abs(stats.zscore(df))\n",
    "    outliers = list(set(np.where(z > 3)[0]))\n",
    "    new_df = df.drop(outliers,axis = 0).reset_index(drop = False)\n",
    "    y_new = y[list(new_df[\"index\"])]\n",
    "    \n",
    "   ```\n",
    "     - Box Plots/IQR Calculation : In the box plot, the values should be the range of (Q1 - 1.5 x IQR, Q3 + 1.5X IQR ).  Other values are outliers.\n",
    "   \n",
    "     - Isolation Forest : The IsolationForest ‘isolates’ observations by randomly selecting a feature and then randomly selecting a split value between the maximum and minimum values of the selected feature.\n",
    "       \n",
    "       \n",
    "       `from sklearn.ensemble import IsolationForest`\n",
    "   \n",
    "   \n",
    "   \n",
    "- Feature Scaling :\n",
    "\n",
    "     - Standardization : Standardization is a scaling technique where the values are centered around the mean with a unit standard deviation. This means that the mean of the attribute becomes zero and the resultant distribution has a unit standard deviation.\n",
    " \n",
    "     - Normalization : Normalization is a scaling technique in which values are shifted and rescaled so that they end up ranging between 0 and 1. It is also known as Min-Max scaling.\n",
    "          Some normalization techniques\n",
    "          \n",
    "          - Linear Scaling : When the feature is more-or-less uniformly distributed across a fixed range.\n",
    "          - Clipping : When the feature contains some extreme outliers\n",
    "          - Log Scaling : When the feature conforms to the power law\n",
    "          - Z-score : When the feature distribution does not contain extreme outliers\n",
    "             \n",
    "             \n",
    "             \n",
    "- Bucketing (Binning) : It is used to minimize the effects of small observation errors (noisy data). The original data values are divided into small intervals known as bins and then they are replaced by a general value calculated for that bin.\n",
    "\n",
    "\n",
    "\n",
    "- Feature Extraction : We can create some new useful features from the avaliable features.\n",
    "\n",
    "   Some methods for feature extraction:\n",
    "\n",
    "    - Principle Components Analysis (PCA)\n",
    "    - Independent Component Analysis (ICA)\n",
    "    - Linear Discriminant Analysis (LDA)\n",
    "    - t-distributed Stochastic Neighbor Embedding (t-SNE)\n",
    "\n",
    "\n",
    "\n",
    "- Feature Encoding : Feature encoding is basically performing transformations on the data such that it can be easily accepted as input for machine learning algorithms while still retaining its original meaning.\n",
    "\n",
    "     - Nominal : Any one-to-one mapping can be done which retains the meaning. For instance, a permutation of values like in One-Hot Encoding.\n",
    "      \n",
    "     - Ordinal : An order-preserving change of values. The notion of small, medium and large can be represented equally well with the help of a new function. For example, we can encode this S, M and L sizes into {0, 1, 2} or maybe {1, 2, 3}.\n",
    "\n",
    "\n",
    "\n",
    "\n",
    "- Train / Validation / Test Split : Before we start deciding the algorithm which should be used, it is always advised to split the dataset into 2 or sometimes 3 parts. Machine Learning algorithms, or any algorithm for that matter, has to be first trained on the data distribution available and then validated and tested, before it can be deployed to deal with real-world data.\n",
    "\n",
    "    60 / 20 / 20\n",
    "\n",
    "\n",
    "    70 / 30\n",
    "     \n",
    "   We can use also cross validation method.Because k-fold cross validation ensures that every observation from the original    dataset has the chance of appearing in training and test set, this method generally results in a less biased model compare to other methods. It is one of the best approaches if we have limited input data.The disadvantage of this method is that the training algorithm has to be rerun from scratch k times, which means it takes k times as much computation to make an evaluation.\n",
    "\n",
    "     1. Randomly split your entire dataset into k number of folds (subsets)\n",
    "     2. For each fold in your dataset, build your model on k – 1 folds of the dataset. Then, test the model to check the effectiveness for kth fold\n",
    "     3. Repeat this until each of the k-folds has served as the test set\n",
    "     4. The average of your k recorded accuracy is called the cross-validation accuracy and will serve as your performance metric for the model.\n",
    "     \n",
    "\n",
    "`from sklearn.model_selection import train_test_split`\n",
    " \n",
    "`from sklearn.model_selection import cross_validate`\n",
    "\n",
    "\n",
    "\n",
    "\n",
    "\n",
    "We need data preprocessing because real world data are generally incomplete, noisy and inconsistent. Since mistakes, redundancies, missing values, and inconsistencies all compromise the integrity of the set, we need to fix all those issues for a more accurate outcome.\n",
    "\n",
    "During data preprocessing, we discover patterns,to spot anomalies,to test hypothesis and to check assumptions with the help of summary statistics and graphical representations.We also do some visualizations of our data to help us see if there are any relevant relationships between different variables we can take advantage of, as well as see if there are any data imbalances."
   ]
  },
  {
   "cell_type": "markdown",
   "metadata": {},
   "source": [
    "## Question 5\n",
    "\n",
    "\n",
    "A continuous variable can assume any value within a specified relevant interval of values assumed by the variable.It can take any values and you can keep counting this value.\n",
    "\n",
    "Continuous variables are used for regression.\n",
    "\n",
    "When working with continuous random variables, we describe probability distributions using a probability density function (PDF) rather than a probability mass function. To be a probability density function, a function p must satisfy the following properties:\n",
    "\n",
    "  1. The domain of p must be the set of all possible states of x\n",
    "  2. ∀x ∈ x, p(x) ≥ 0. Note that we do not require $p(x)\\leq1$\n",
    "  3. $\\int_a^bp(x)dx = 1$\n",
    "  \n",
    "  \n",
    "Binning refers to dividing a list of continuous variables into groups. It is done to discover set of patterns in continuous variables, which are difficult to analyze otherwise. Also, bins are easy to analyze and interpret. But, it also leads to loss of information and loss of power. Once the bins are created, the information gets compressed into groups which later affects the final model. Hence, it is advisable to create small bins initially.\n",
    "\n",
    "\n",
    "\n",
    "A discrete variable is characterized by gaps or interruptions in the values that it can assume. It can take only a specific value amongst the set of all possible values or in other words, if you don’t keep counting that value. \n",
    "\n",
    "Discrete variables are used for classification.\n",
    "\n",
    "A probability distribution over discrete variables can be explained using a probability mass function (PMF). We typically express probability mass functions with a capital P. Usually, we associate each random variable with a different probability mass function, and the reader must determine which PMF to use based on the identity of the random variable instead of the name of the function; P (x) is generally not the same as P (y).\n"
   ]
  },
  {
   "cell_type": "markdown",
   "metadata": {},
   "source": [
    "## Question 6\n",
    "\n",
    "The plot is the distplot in histogram mode and it has a KDE curve also. The variable type is discrete. The distribution is binomial. "
   ]
  },
  {
   "cell_type": "code",
   "execution_count": 87,
   "metadata": {},
   "outputs": [],
   "source": [
    "import pandas as pd\n",
    "import seaborn as sns\n",
    "import numpy as np\n",
    "import matplotlib.pyplot as plt"
   ]
  },
  {
   "cell_type": "code",
   "execution_count": 88,
   "metadata": {},
   "outputs": [
    {
     "data": {
      "text/html": [
       "<div>\n",
       "<style scoped>\n",
       "    .dataframe tbody tr th:only-of-type {\n",
       "        vertical-align: middle;\n",
       "    }\n",
       "\n",
       "    .dataframe tbody tr th {\n",
       "        vertical-align: top;\n",
       "    }\n",
       "\n",
       "    .dataframe thead th {\n",
       "        text-align: right;\n",
       "    }\n",
       "</style>\n",
       "<table border=\"1\" class=\"dataframe\">\n",
       "  <thead>\n",
       "    <tr style=\"text-align: right;\">\n",
       "      <th></th>\n",
       "      <th>Id</th>\n",
       "      <th>SepalLengthCm</th>\n",
       "      <th>SepalWidthCm</th>\n",
       "      <th>PetalLengthCm</th>\n",
       "      <th>PetalWidthCm</th>\n",
       "      <th>Species</th>\n",
       "    </tr>\n",
       "  </thead>\n",
       "  <tbody>\n",
       "    <tr>\n",
       "      <th>0</th>\n",
       "      <td>1</td>\n",
       "      <td>5.1</td>\n",
       "      <td>3.5</td>\n",
       "      <td>1.4</td>\n",
       "      <td>0.2</td>\n",
       "      <td>Iris-setosa</td>\n",
       "    </tr>\n",
       "    <tr>\n",
       "      <th>1</th>\n",
       "      <td>2</td>\n",
       "      <td>4.9</td>\n",
       "      <td>3.0</td>\n",
       "      <td>1.4</td>\n",
       "      <td>0.2</td>\n",
       "      <td>Iris-setosa</td>\n",
       "    </tr>\n",
       "    <tr>\n",
       "      <th>2</th>\n",
       "      <td>3</td>\n",
       "      <td>4.7</td>\n",
       "      <td>3.2</td>\n",
       "      <td>1.3</td>\n",
       "      <td>0.2</td>\n",
       "      <td>Iris-setosa</td>\n",
       "    </tr>\n",
       "    <tr>\n",
       "      <th>3</th>\n",
       "      <td>4</td>\n",
       "      <td>4.6</td>\n",
       "      <td>3.1</td>\n",
       "      <td>1.5</td>\n",
       "      <td>0.2</td>\n",
       "      <td>Iris-setosa</td>\n",
       "    </tr>\n",
       "    <tr>\n",
       "      <th>4</th>\n",
       "      <td>5</td>\n",
       "      <td>5.0</td>\n",
       "      <td>3.6</td>\n",
       "      <td>1.4</td>\n",
       "      <td>0.2</td>\n",
       "      <td>Iris-setosa</td>\n",
       "    </tr>\n",
       "  </tbody>\n",
       "</table>\n",
       "</div>"
      ],
      "text/plain": [
       "   Id  SepalLengthCm  SepalWidthCm  PetalLengthCm  PetalWidthCm      Species\n",
       "0   1            5.1           3.5            1.4           0.2  Iris-setosa\n",
       "1   2            4.9           3.0            1.4           0.2  Iris-setosa\n",
       "2   3            4.7           3.2            1.3           0.2  Iris-setosa\n",
       "3   4            4.6           3.1            1.5           0.2  Iris-setosa\n",
       "4   5            5.0           3.6            1.4           0.2  Iris-setosa"
      ]
     },
     "execution_count": 88,
     "metadata": {},
     "output_type": "execute_result"
    }
   ],
   "source": [
    "data = pd.read_csv(\"https://raw.githubusercontent.com/globalaihub/introduction-to-machine-learning/main/Decision%20Trees/datasets/iris.csv\")\n",
    "data.head() "
   ]
  },
  {
   "cell_type": "code",
   "execution_count": 90,
   "metadata": {},
   "outputs": [
    {
     "name": "stderr",
     "output_type": "stream",
     "text": [
      "C:\\Users\\User\\anaconda3\\lib\\site-packages\\seaborn\\distributions.py:2551: FutureWarning: `distplot` is a deprecated function and will be removed in a future version. Please adapt your code to use either `displot` (a figure-level function with similar flexibility) or `histplot` (an axes-level function for histograms).\n",
      "  warnings.warn(msg, FutureWarning)\n"
     ]
    },
    {
     "data": {
      "text/plain": [
       "<AxesSubplot:xlabel='PetalWidthCm', ylabel='Density'>"
      ]
     },
     "execution_count": 90,
     "metadata": {},
     "output_type": "execute_result"
    },
    {
     "data": {
      "image/png": "[encoded data removed]",
      "text/plain": [
       "<Figure size 936x288 with 1 Axes>"
      ]
     },
     "metadata": {
      "needs_background": "light"
     },
     "output_type": "display_data"
    }
   ],
   "source": [
    "plt.rcParams['figure.figsize'] = (13.0, 4.0)\n",
    "sns.distplot(data[\"PetalWidthCm\"])"
   ]
  },
  {
   "cell_type": "markdown",
   "metadata": {},
   "source": [
    "For data preprocessing, firstly I would check the missing and duplicated values and outliers. After that, I would check whether the data is imbalance or not. Besides, I would analyze the data with `df.describe()` and `df.info()`. Lastly, I would encode the label, drop the unnecessary columns and splitting the dataset."
   ]
  },
  {
   "cell_type": "code",
   "execution_count": null,
   "metadata": {},
   "outputs": [],
   "source": []
  }
 ],
 "metadata": {
  "kernelspec": {
   "display_name": "Python 3",
   "language": "python",
   "name": "python3"
  },
  "language_info": {
   "codemirror_mode": {
    "name": "ipython",
    "version": 3
   },
   "file_extension": ".py",
   "mimetype": "text/x-python",
   "name": "python",
   "nbconvert_exporter": "python",
   "pygments_lexer": "ipython3",
   "version": "3.8.5"
  }
 },
 "nbformat": 4,
 "nbformat_minor": 4
}
